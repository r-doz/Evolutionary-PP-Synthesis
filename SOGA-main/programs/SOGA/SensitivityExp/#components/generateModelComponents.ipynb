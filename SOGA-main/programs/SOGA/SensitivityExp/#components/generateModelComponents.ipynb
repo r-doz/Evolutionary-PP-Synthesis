{
 "cells": [
  {
   "cell_type": "code",
   "execution_count": 2,
   "id": "3ccd03e8-39e9-4395-a52c-a0e21ed8da93",
   "metadata": {},
   "outputs": [],
   "source": [
    "import re\n",
    "import glob"
   ]
  },
  {
   "cell_type": "code",
   "execution_count": 5,
   "id": "ba28fd45-3cc0-41bd-ac09-9700fd66d59a",
   "metadata": {},
   "outputs": [
    {
     "name": "stdout",
     "output_type": "stream",
     "text": [
      "CoinBias.tpl\n",
      "RadarQuery.tpl\n",
      "SurveyUnbias.tpl\n"
     ]
    }
   ],
   "source": [
    "tpl=glob.glob(\"*.tpl\")\n",
    "\n",
    "for t in tpl:\n",
    "    print(t)\n",
    "    tplmodel=open(t,\"r\").read()\n",
    "    dist=re.findall(r\"\\$cmp\",tplmodel)\n",
    "\n",
    "    ncmp=len(dist)\n",
    "    cmpMax=ncmp*4\n",
    "    distCmp=[1 for i in range(ncmp)]\n",
    "    model=None\n",
    "    for i in range(cmpMax):\n",
    "        model=tplmodel;\n",
    "        for idx,cmp in enumerate(distCmp):\n",
    "            model=model.replace(\"$cmp\",f\"{cmp}\",1)\n",
    "        newm=open(f\"%s{sum(distCmp)}.soga\"%t.split(\".\")[0],\"w+\")\n",
    "        newm.write(model)\n",
    "        newm.close()\n",
    "        distCmp[i%ncmp]+=1\n",
    "\n",
    "    model=tplmodel;\n",
    "    for idx,cmp in enumerate(distCmp):\n",
    "        model=model.replace(\"$cmp\",f\"{cmp}\",1)\n",
    "    newm=open(f\"%s{sum(distCmp)}.soga\"%t.split(\"_\")[0],\"w+\")\n",
    "    newm.write(model)\n",
    "    newm.close()\n",
    "    \n",
    "    "
   ]
  },
  {
   "cell_type": "code",
   "execution_count": null,
   "id": "7d27aca6-4617-4a4d-865d-e93ecee2dbd6",
   "metadata": {},
   "outputs": [],
   "source": []
  }
 ],
 "metadata": {
  "kernelspec": {
   "display_name": "Python 3 (ipykernel)",
   "language": "python",
   "name": "python3"
  },
  "language_info": {
   "codemirror_mode": {
    "name": "ipython",
    "version": 3
   },
   "file_extension": ".py",
   "mimetype": "text/x-python",
   "name": "python",
   "nbconvert_exporter": "python",
   "pygments_lexer": "ipython3",
   "version": "3.9.6"
  }
 },
 "nbformat": 4,
 "nbformat_minor": 5
}
