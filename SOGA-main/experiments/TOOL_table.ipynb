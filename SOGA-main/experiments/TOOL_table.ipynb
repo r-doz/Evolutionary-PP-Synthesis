{
 "cells": [
  {
   "cell_type": "code",
   "execution_count": 189,
   "id": "8a27c66c-cdbf-4de2-adcb-a72a4083617f",
   "metadata": {},
   "outputs": [],
   "source": [
    "import pandas as pd\n",
    "import numpy as np\n",
    "import re\n",
    "import matplotlib.pyplot as plt"
   ]
  },
  {
   "cell_type": "code",
   "execution_count": 195,
   "id": "f5f0be38-daca-4eb0-b696-07e057f33874",
   "metadata": {},
   "outputs": [
    {
     "name": "stdout",
     "output_type": "stream",
     "text": [
      "                             model   time    value   c  d\n",
      "0       soga_radarquery_k=0.00725c  4.754  5.93310  10  8\n",
      "1       soga_clickgraph_k=0.00725c  3.098  0.61409  35  6\n",
      "2        soga_bernoulli_k=0.00725c  0.520  0.25689  15  2\n",
      "3     soga_surveyunbias_k=0.00725c  1.428  0.62014  26  4\n",
      "4         soga_coinbias_k=0.00725c  1.650  0.42691  28  2\n",
      "5    soga_clinicaltrial_k=0.00725c  1.601  0.75342  45  5\n",
      "6         soga_radarquery_k=0.015c  8.454  5.76984  15  8\n",
      "7         soga_clickgraph_k=0.015c  8.881  0.61424  69  6\n",
      "8          soga_bernoulli_k=0.015c  0.805  0.25690  30  2\n",
      "9       soga_surveyunbias_k=0.015c  3.613  0.62016  48  4\n",
      "10          soga_coinbias_k=0.015c  4.565  0.42691  57  2\n",
      "11     soga_clinicaltrial_k=0.015c  3.561  0.75341  89  5\n",
      "12     soga_radarquery_k=0.003625c  2.272  5.85908   6  8\n",
      "13     soga_clickgraph_k=0.003625c  1.240  0.61381  18  6\n",
      "14      soga_bernoulli_k=0.003625c  0.268  0.25683   8  2\n",
      "15   soga_surveyunbias_k=0.003625c  0.605  0.62020  12  4\n",
      "16       soga_coinbias_k=0.003625c  0.747  0.42690  16  2\n",
      "17  soga_clinicaltrial_k=0.003625c  0.806  0.75341  23  5\n"
     ]
    }
   ],
   "source": [
    "df=pd.read_csv(\"./results/pruneSensitivity.csv\")\n",
    "print(df)\n",
    "trueValue=pd.read_csv(\"./results/PruneTrue.csv\")"
   ]
  },
  {
   "cell_type": "code",
   "execution_count": 194,
   "id": "5a6ac067-ef04-4618-924a-16a1303a0c45",
   "metadata": {},
   "outputs": [],
   "source": [
    "#print(list(set(df[\"model\"])))\n",
    "models=list(set(list(map(lambda x:x.split(\"_k=\")[0],list(set(df[\"model\"]))))))"
   ]
  },
  {
   "cell_type": "code",
   "execution_count": 192,
   "id": "6f69f28f-7ee5-4f87-a768-cda16e918712",
   "metadata": {},
   "outputs": [
    {
     "name": "stdout",
     "output_type": "stream",
     "text": [
      "0.81 & 2.76& 0.52 & 2.76& 0.27 & 2.73\\\\ bernoulli\n",
      "8.88 & 0.04& 3.10 & 0.01& 1.24 & 0.03\\\\ clickgraph\n",
      "3.56 & 0.21& 1.60 & 0.21& 0.81 & 0.21\\\\ clinicaltrial\n",
      "Series([], )\\\\ normalmixtures\n",
      "8.45 & 8.89& 4.75 & 6.31& 2.27 & 7.48\\\\ radarquery\n",
      "4.57 & 1.40& 1.65 & 1.40& 0.75 & 1.40\\\\ coinbias\n",
      "3.61 & 0.77& 1.43 & 0.78& 0.60 & 0.77\\\\ surveyunbias\n"
     ]
    }
   ],
   "source": [
    "for m in trueValue[\"model\"].to_string(index=False).split(\"\\n\"):\n",
    "    m=m.strip()\n",
    "    gt=trueValue[trueValue[\"model\"]==m]\n",
    "    gt=gt[\"value\"].iloc[0]\n",
    "    g=df[df['model'].str.contains(m)].sort_values(by='model', ascending=False)\n",
    "    #print(g)\n",
    "    res=g.apply(lambda x:f\"{x[1]:02.2f} & {abs(gt-float(x[2]))*100/gt:02.2f}\",axis=1)\n",
    "    print(f\"& \".join(res.to_string(index=False).split(\"\\n\"))+f\"\\\\\\\\ {m}\")"
   ]
  },
  {
   "cell_type": "markdown",
   "id": "5a2108f5-cad0-4536-b216-cc49914e30ca",
   "metadata": {},
   "source": [
    "## Table2 Script"
   ]
  },
  {
   "cell_type": "code",
   "execution_count": 173,
   "id": "6fb1c283-e1f8-409a-ac15-d9e09c381530",
   "metadata": {},
   "outputs": [
    {
     "name": "stdout",
     "output_type": "stream",
     "text": [
      "          model  soga_time  soga_value  c  #vars   pymc_time    pymc_value\n",
      "0   timeseries1      0.055     0.99768  2      5   264.21815       0.99406\n",
      "1   timeseries2      0.055     2.04783  2      6   217.92402       2.06044\n",
      "2   timeseries3      0.061     1.99895  2      7   456.19620       2.03264\n",
      "3   timeseries4      0.065     2.36094  2      8   537.86266       2.37296\n",
      "4   timeseries5      0.069     2.87916  2      9  1200.00000  100000.00000\n",
      "5   timeseries6      0.066     2.77245  2     10   968.49163       2.91271\n",
      "6   timeseries7      0.066     3.94455  2     11   727.21497       4.05487\n",
      "7   timeseries8      0.066     3.24248  2     12  1200.00000  100000.00000\n",
      "8   timeseries9      0.078     3.21674  2     13  1200.00000  100000.00000\n",
      "9  timeseries10      0.074     3.18213  2     14  1200.00000  100000.00000\n",
      "          model  soga_time  soga_value  c  #vars\n",
      "1   timeseries1      0.055     0.99768  2      5\n",
      "6   timeseries2      0.055     2.04783  2      6\n",
      "5   timeseries3      0.061     1.99895  2      7\n",
      "8   timeseries4      0.065     2.36094  2      8\n",
      "7   timeseries5      0.069     2.87916  2      9\n",
      "4   timeseries6      0.066     2.77245  2     10\n",
      "9   timeseries7      0.066     3.94455  2     11\n",
      "3   timeseries8      0.066     3.24248  2     12\n",
      "0   timeseries9      0.078     3.21674  2     13\n",
      "2  timeseries10      0.074     3.18213  2     14\n"
     ]
    }
   ],
   "source": [
    "pd.options.display.max_colwidth = 100\n",
    "soga_srv=pd.read_csv(\"./results/varSensitivity.csv\",names=[\"model\",\"soga_time\",\"soga_value\",\"c\",\"#vars\"],header=None).sort_values(by='#vars', ascending=True)\n",
    "df=pd.read_csv(\"./results/varSensitivity_pymc.csv\",names=[\"model\",\"soga_time\",\"soga_value\",\"c\",\"#vars\",\"pymc_time\",\"pymc_value\"],header=0).sort_values(by='#vars', ascending=True)\n",
    "\n",
    "df.iloc[:,1]=soga_srv.iloc[:,1]\n",
    "df.iloc[:,2]=soga_srv.iloc[:,2]\n"
   ]
  },
  {
   "cell_type": "code",
   "execution_count": 174,
   "id": "bc556bc7-7473-4a40-8aa4-73756b0a8b5f",
   "metadata": {},
   "outputs": [
    {
     "name": "stdout",
     "output_type": "stream",
     "text": [
      "          \\textsl{timeseries1}_{5} & 5 & 0.06 & 0.998 & 264.22 & 0.994 &0.36 \\\\\n",
      "          \\textsl{timeseries2}_{6} & 6 & 0.06 & 2.048 & 217.92 & 2.060 &0.61 \\\\\n",
      "          \\textsl{timeseries3}_{7} & 7 & 0.06 & 1.999 & 456.20 & 2.033 &1.66 \\\\\n",
      "          \\textsl{timeseries4}_{8} & 8 & 0.06 & 2.361 & 537.86 & 2.373 &0.51 \\\\\n",
      "   \\textsl{timeseries5}_{9} & 9 & 0.07 & 2.879 & 1200.00 & 100000.000 &100.0 \\\\\n",
      "        \\textsl{timeseries6}_{10} & 10 & 0.07 & 2.772 & 968.49 & 2.913 &4.82 \\\\\n",
      "        \\textsl{timeseries7}_{11} & 11 & 0.07 & 3.945 & 727.21 & 4.055 &2.72 \\\\\n",
      " \\textsl{timeseries8}_{12} & 12 & 0.07 & 3.242 & 1200.00 & 100000.000 &100.0 \\\\\n",
      " \\textsl{timeseries9}_{13} & 13 & 0.08 & 3.217 & 1200.00 & 100000.000 &100.0 \\\\\n",
      "\\textsl{timeseries10}_{14} & 14 & 0.07 & 3.182 & 1200.00 & 100000.000 &100.0 \\\\\n"
     ]
    }
   ],
   "source": [
    "res=df.apply(lambda x:f\"\\textsl{{{x[0]}}}_{{{x[4]}}} & {x[4]} & {np.round(x[1],2):.2f} & {np.round(x[2],3):.3f} & {np.round(float(x[5]),2):.2f} & {np.round(x[6],3):.3f} &{np.round(np.abs(x[2]-x[6])*100/x[6],2)} \\\\\\\\\",axis=1)\n",
    "print(\"\\n\".join(res.to_string(index=False).split(\"\\n\")))"
   ]
  },
  {
   "cell_type": "markdown",
   "id": "3675bf93-7d83-4ee4-acc4-b3eb960192c8",
   "metadata": {},
   "source": [
    "## Table3 Script"
   ]
  },
  {
   "cell_type": "code",
   "execution_count": 41,
   "id": "d83e0137-0b00-4ccb-a6b9-ab76ff6da12b",
   "metadata": {},
   "outputs": [],
   "source": [
    "pd.options.display.max_colwidth = 1000\n",
    "df=pd.read_csv(\"./results/branchSensitivity.csv\").sort_values(by=[\"model\",\"c\"], ascending=True)"
   ]
  },
  {
   "cell_type": "code",
   "execution_count": 79,
   "id": "5600be42-fafb-4fd5-8279-5d192ca2e7e4",
   "metadata": {},
   "outputs": [
    {
     "name": "stdout",
     "output_type": "stream",
     "text": [
      "Empty DataFrame\n",
      "Columns: [model, soga_time, soga_value, c, #vars, pymc_time, pymc_value]\n",
      "Index: []\n"
     ]
    },
    {
     "ename": "ValueError",
     "evalue": "Length mismatch: Expected 0 rows, received array of length 8",
     "output_type": "error",
     "traceback": [
      "\u001b[0;31m---------------------------------------------------------------------------\u001b[0m",
      "\u001b[0;31mValueError\u001b[0m                                Traceback (most recent call last)",
      "\u001b[0;32m/var/folders/th/tzthw0195kn8qkczx48fv6440000gn/T/ipykernel_87423/2248659078.py\u001b[0m in \u001b[0;36m?\u001b[0;34m()\u001b[0m\n\u001b[0;32m----> 9\u001b[0;31m \u001b[0;31m#df.apply(lambda x:f\"%s & {x[3]} & \"%(x[0].replace(re.findall(r\"[a-z]*(\\d+.*)\",x[0])[0],\"\")),axis=1)\u001b[0m\u001b[0;34m\u001b[0m\u001b[0;34m\u001b[0m\u001b[0;34m\u001b[0m\u001b[0m\n\u001b[0m\u001b[1;32m     10\u001b[0m \u001b[0mdf_cont\u001b[0m\u001b[0;34m=\u001b[0m\u001b[0mdf\u001b[0m\u001b[0;34m[\u001b[0m\u001b[0;34m(\u001b[0m\u001b[0mdf\u001b[0m\u001b[0;34m[\u001b[0m\u001b[0;34m\"model\"\u001b[0m\u001b[0;34m]\u001b[0m\u001b[0;34m.\u001b[0m\u001b[0mstr\u001b[0m\u001b[0;34m.\u001b[0m\u001b[0mcontains\u001b[0m\u001b[0;34m(\u001b[0m\u001b[0;34m\"continuous\"\u001b[0m\u001b[0;34m)\u001b[0m\u001b[0;34m)\u001b[0m \u001b[0;34m&\u001b[0m \u001b[0;34m(\u001b[0m\u001b[0mdf\u001b[0m\u001b[0;34m[\u001b[0m\u001b[0;34m\"model\"\u001b[0m\u001b[0;34m]\u001b[0m\u001b[0;34m.\u001b[0m\u001b[0mstr\u001b[0m\u001b[0;34m.\u001b[0m\u001b[0mcontains\u001b[0m\u001b[0;34m(\u001b[0m\u001b[0;34m\"soga\"\u001b[0m\u001b[0;34m)\u001b[0m\u001b[0;34m)\u001b[0m \u001b[0;34m&\u001b[0m \u001b[0;34m(\u001b[0m\u001b[0mdf\u001b[0m\u001b[0;34m[\u001b[0m\u001b[0;34m\"model\"\u001b[0m\u001b[0;34m]\u001b[0m\u001b[0;34m.\u001b[0m\u001b[0mstr\u001b[0m\u001b[0;34m.\u001b[0m\u001b[0mcontains\u001b[0m\u001b[0;34m(\u001b[0m\u001b[0;34m\"randomwalk\"\u001b[0m\u001b[0;34m)\u001b[0m\u001b[0;34m)\u001b[0m\u001b[0;34m]\u001b[0m\u001b[0;34m.\u001b[0m\u001b[0msort_values\u001b[0m\u001b[0;34m(\u001b[0m\u001b[0mby\u001b[0m\u001b[0;34m=\u001b[0m\u001b[0;34m[\u001b[0m\u001b[0;34m\"c\"\u001b[0m\u001b[0;34m]\u001b[0m\u001b[0;34m,\u001b[0m \u001b[0mascending\u001b[0m\u001b[0;34m=\u001b[0m\u001b[0;32mTrue\u001b[0m\u001b[0;34m)\u001b[0m\u001b[0;34m\u001b[0m\u001b[0;34m\u001b[0m\u001b[0m\n\u001b[1;32m     11\u001b[0m \u001b[0mprint\u001b[0m\u001b[0;34m(\u001b[0m\u001b[0mdf_cont\u001b[0m\u001b[0;34m)\u001b[0m\u001b[0;34m\u001b[0m\u001b[0;34m\u001b[0m\u001b[0m\n\u001b[1;32m     12\u001b[0m \u001b[0;31m#df_cont[\"#B\"]=df_cont[\"model\"].apply(lambda x:re.findall(r\"[a-zA-Z]+(\\d+).*\",x)[0])\u001b[0m\u001b[0;34m\u001b[0m\u001b[0;34m\u001b[0m\u001b[0;34m\u001b[0m\u001b[0m\n",
      "\u001b[0;32m~/Library/Python/3.9/lib/python/site-packages/pandas/core/frame.py\u001b[0m in \u001b[0;36m?\u001b[0;34m(self, keys, drop, append, inplace, verify_integrity)\u001b[0m\n\u001b[1;32m   5906\u001b[0m \u001b[0;34m\u001b[0m\u001b[0m\n\u001b[1;32m   5907\u001b[0m             \u001b[0;32mif\u001b[0m \u001b[0mlen\u001b[0m\u001b[0;34m(\u001b[0m\u001b[0marrays\u001b[0m\u001b[0;34m[\u001b[0m\u001b[0;34m-\u001b[0m\u001b[0;36m1\u001b[0m\u001b[0;34m]\u001b[0m\u001b[0;34m)\u001b[0m \u001b[0;34m!=\u001b[0m \u001b[0mlen\u001b[0m\u001b[0;34m(\u001b[0m\u001b[0mself\u001b[0m\u001b[0;34m)\u001b[0m\u001b[0;34m:\u001b[0m\u001b[0;34m\u001b[0m\u001b[0;34m\u001b[0m\u001b[0m\n\u001b[1;32m   5908\u001b[0m                 \u001b[0;31m# check newest element against length of calling frame, since\u001b[0m\u001b[0;34m\u001b[0m\u001b[0;34m\u001b[0m\u001b[0;34m\u001b[0m\u001b[0m\n\u001b[1;32m   5909\u001b[0m                 \u001b[0;31m# ensure_index_from_sequences would not raise for append=False.\u001b[0m\u001b[0;34m\u001b[0m\u001b[0;34m\u001b[0m\u001b[0;34m\u001b[0m\u001b[0m\n\u001b[0;32m-> 5910\u001b[0;31m                 raise ValueError(\n\u001b[0m\u001b[1;32m   5911\u001b[0m                     \u001b[0;34mf\"Length mismatch: Expected {len(self)} rows, \"\u001b[0m\u001b[0;34m\u001b[0m\u001b[0;34m\u001b[0m\u001b[0m\n\u001b[1;32m   5912\u001b[0m                     \u001b[0;34mf\"received array of length {len(arrays[-1])}\"\u001b[0m\u001b[0;34m\u001b[0m\u001b[0;34m\u001b[0m\u001b[0m\n\u001b[1;32m   5913\u001b[0m                 )\n",
      "\u001b[0;31mValueError\u001b[0m: Length mismatch: Expected 0 rows, received array of length 8"
     ]
    }
   ],
   "source": [
    "#df.apply(lambda x:f\"%s & {x[3]} & \"%(x[0].replace(re.findall(r\"[a-z]*(\\d+.*)\",x[0])[0],\"\")),axis=1)\n",
    "df_cont=df[(df[\"model\"].str.contains(\"continuous\")) & (df[\"model\"].str.contains(\"soga\")) & (df[\"model\"].str.contains(\"randomwalk\"))].sort_values(by=[\"c\"], ascending=True)\n",
    "print(df_cont)\n",
    "#df_cont[\"#B\"]=df_cont[\"model\"].apply(lambda x:re.findall(r\"[a-zA-Z]+(\\d+).*\",x)[0])\n",
    "df_cont[\"model\"]=df_cont[\"model\"].apply(lambda x:re.findall(r\"([a-zA-Z]+)\\d+.*\",x)[0])\n",
    "df_disc=df[df[\"model\"].str.contains(\"discrete\")].sort_values(by=[\"c\"], ascending=True)\n",
    "df_disc[\"#B\"]=df_disc[\"model\"].apply(lambda x:re.findall(r\"[a-zA-Z]+(\\d+).*\",x)[0])\n",
    "df_disc[\"model\"]=df_disc[\"model\"].apply(lambda x:re.findall(r\"([a-zA-Z]+)\\d+.*\",x)[0])\n",
    "df_cont=df_cont.set_index(pd.Index(range(8)))\n",
    "df_disc=df_disc.set_index(pd.Index(range(8)))\n",
    "res=pd.concat([df_cont,df_disc],axis=1,join=\"inner\")"
   ]
  },
  {
   "cell_type": "code",
   "execution_count": 39,
   "id": "5595f49f-8ff3-409d-a391-8195f815a3db",
   "metadata": {},
   "outputs": [
    {
     "data": {
      "text/html": [
       "<div>\n",
       "<style scoped>\n",
       "    .dataframe tbody tr th:only-of-type {\n",
       "        vertical-align: middle;\n",
       "    }\n",
       "\n",
       "    .dataframe tbody tr th {\n",
       "        vertical-align: top;\n",
       "    }\n",
       "\n",
       "    .dataframe thead th {\n",
       "        text-align: right;\n",
       "    }\n",
       "</style>\n",
       "<table border=\"1\" class=\"dataframe\">\n",
       "  <thead>\n",
       "    <tr style=\"text-align: right;\">\n",
       "      <th></th>\n",
       "      <th>model</th>\n",
       "      <th>time</th>\n",
       "      <th>value</th>\n",
       "      <th>c</th>\n",
       "      <th>d</th>\n",
       "    </tr>\n",
       "  </thead>\n",
       "  <tbody>\n",
       "    <tr>\n",
       "      <th>66</th>\n",
       "      <td>psi_bernoulli11_continuous</td>\n",
       "      <td>3.618854</td>\n",
       "      <td>0.307692</td>\n",
       "      <td>NaN</td>\n",
       "      <td>NaN</td>\n",
       "    </tr>\n",
       "    <tr>\n",
       "      <th>50</th>\n",
       "      <td>psi_bernoulli11_discrete</td>\n",
       "      <td>4.597262</td>\n",
       "      <td>0.750000</td>\n",
       "      <td>NaN</td>\n",
       "      <td>NaN</td>\n",
       "    </tr>\n",
       "    <tr>\n",
       "      <th>69</th>\n",
       "      <td>psi_bernoulli13_continuous</td>\n",
       "      <td>3.785758</td>\n",
       "      <td>0.333333</td>\n",
       "      <td>NaN</td>\n",
       "      <td>NaN</td>\n",
       "    </tr>\n",
       "    <tr>\n",
       "      <th>53</th>\n",
       "      <td>psi_bernoulli13_discrete</td>\n",
       "      <td>5.096273</td>\n",
       "      <td>0.750000</td>\n",
       "      <td>NaN</td>\n",
       "      <td>NaN</td>\n",
       "    </tr>\n",
       "    <tr>\n",
       "      <th>76</th>\n",
       "      <td>psi_bernoulli15_continuous</td>\n",
       "      <td>3.820925</td>\n",
       "      <td>0.352941</td>\n",
       "      <td>NaN</td>\n",
       "      <td>NaN</td>\n",
       "    </tr>\n",
       "    <tr>\n",
       "      <th>...</th>\n",
       "      <td>...</td>\n",
       "      <td>...</td>\n",
       "      <td>...</td>\n",
       "      <td>...</td>\n",
       "      <td>...</td>\n",
       "    </tr>\n",
       "    <tr>\n",
       "      <th>19</th>\n",
       "      <td>soga_surveyunbias5_discrete</td>\n",
       "      <td>1.411000</td>\n",
       "      <td>NaN</td>\n",
       "      <td>1.0</td>\n",
       "      <td>4.0</td>\n",
       "    </tr>\n",
       "    <tr>\n",
       "      <th>30</th>\n",
       "      <td>soga_surveyunbias7_continuous</td>\n",
       "      <td>4.598000</td>\n",
       "      <td>NaN</td>\n",
       "      <td>511.0</td>\n",
       "      <td>4.0</td>\n",
       "    </tr>\n",
       "    <tr>\n",
       "      <th>7</th>\n",
       "      <td>soga_surveyunbias7_discrete</td>\n",
       "      <td>1.870000</td>\n",
       "      <td>NaN</td>\n",
       "      <td>1.0</td>\n",
       "      <td>4.0</td>\n",
       "    </tr>\n",
       "    <tr>\n",
       "      <th>27</th>\n",
       "      <td>soga_surveyunbias9_continuous</td>\n",
       "      <td>10.455000</td>\n",
       "      <td>NaN</td>\n",
       "      <td>1948.0</td>\n",
       "      <td>4.0</td>\n",
       "    </tr>\n",
       "    <tr>\n",
       "      <th>4</th>\n",
       "      <td>soga_surveyunbias9_discrete</td>\n",
       "      <td>2.286000</td>\n",
       "      <td>NaN</td>\n",
       "      <td>1.0</td>\n",
       "      <td>4.0</td>\n",
       "    </tr>\n",
       "  </tbody>\n",
       "</table>\n",
       "<p>79 rows × 5 columns</p>\n",
       "</div>"
      ],
      "text/plain": [
       "                            model       time     value       c    d\n",
       "66     psi_bernoulli11_continuous   3.618854  0.307692     NaN  NaN\n",
       "50       psi_bernoulli11_discrete   4.597262  0.750000     NaN  NaN\n",
       "69     psi_bernoulli13_continuous   3.785758  0.333333     NaN  NaN\n",
       "53       psi_bernoulli13_discrete   5.096273  0.750000     NaN  NaN\n",
       "76     psi_bernoulli15_continuous   3.820925  0.352941     NaN  NaN\n",
       "..                            ...        ...       ...     ...  ...\n",
       "19    soga_surveyunbias5_discrete   1.411000       NaN     1.0  4.0\n",
       "30  soga_surveyunbias7_continuous   4.598000       NaN   511.0  4.0\n",
       "7     soga_surveyunbias7_discrete   1.870000       NaN     1.0  4.0\n",
       "27  soga_surveyunbias9_continuous  10.455000       NaN  1948.0  4.0\n",
       "4     soga_surveyunbias9_discrete   2.286000       NaN     1.0  4.0\n",
       "\n",
       "[79 rows x 5 columns]"
      ]
     },
     "execution_count": 39,
     "metadata": {},
     "output_type": "execute_result"
    }
   ],
   "source": [
    "df"
   ]
  },
  {
   "cell_type": "code",
   "execution_count": 306,
   "id": "33c12165-71cd-417c-b9f4-62ab9b766425",
   "metadata": {},
   "outputs": [
    {
     "name": "stdout",
     "output_type": "stream",
     "text": [
      "      randomwalk_{1} & 0.01 & 0.00 & 2 & 1 \\\\\n",
      "      randomwalk_{2} & 0.01 & 0.01 & 8 & 3 \\\\\n",
      "     randomwalk_{3} & 0.03 & 0.01 & 32 & 5 \\\\\n",
      "    randomwalk_{4} & 0.12 & 0.02 & 128 & 7 \\\\\n",
      "    randomwalk_{5} & 0.55 & 0.07 & 512 & 9 \\\\\n",
      "  randomwalk_{6} & 1.65 & 0.29 & 2048 & 11 \\\\\n",
      "  randomwalk_{7} & 5.76 & 0.98 & 8192 & 13 \\\\\n",
      "randomwalk_{8} & 22.27 & 3.66 & 32768 & 15 \\\\\n"
     ]
    },
    {
     "name": "stderr",
     "output_type": "stream",
     "text": [
      "/var/folders/th/tzthw0195kn8qkczx48fv6440000gn/T/ipykernel_55793/4033885654.py:1: FutureWarning: Series.__getitem__ treating keys as positions is deprecated. In a future version, integer keys will always be treated as labels (consistent with DataFrame behavior). To access a value by position, use `ser.iloc[pos]`\n",
      "  res2=res.apply(lambda x:f\"{x[0]}_{{{x.name+1}}} & {np.round(x[1],2):.2f} & {np.round(x[8],2):.2f} & {int(x[10])} & {int(int(x[14]))} \\\\\\\\\",axis=1)\n"
     ]
    }
   ],
   "source": [
    "res2=res.apply(lambda x:f\"{x[0]}_{{{x.name+1}}} & {np.round(x[1],2):.2f} & {np.round(x[8],2):.2f} & {int(x[10])} & {int(int(x[14]))} \\\\\\\\\",axis=1)\n",
    "print(res2.to_string(index=False))"
   ]
  },
  {
   "cell_type": "markdown",
   "id": "99106eae-a97f-4e25-90e7-b22777d4a3a9",
   "metadata": {},
   "source": [
    "## Table4 Script"
   ]
  },
  {
   "cell_type": "code",
   "execution_count": 69,
   "id": "aa69762d-928f-4324-854c-e5605be1c922",
   "metadata": {},
   "outputs": [],
   "source": [
    "df=pd.read_csv(\"./results/cmpSensitivity_soga.csv\").sort_values(by=[\"model\",\"c\"], ascending=True)\n",
    "df_true=pd.read_csv(\"./results/cmpSensitivity_true.csv\").sort_values(by=[\"model\"], ascending=True)"
   ]
  },
  {
   "cell_type": "code",
   "execution_count": 80,
   "id": "bee329c6-4faa-432c-b0aa-76fcbf708f3c",
   "metadata": {},
   "outputs": [],
   "source": [
    "data=df[~df[\"model\"].str.contains(\"radarquery\")]\n",
    "data_tru=df_true[~df_true[\"model\"].str.contains(\"radarquery\")]"
   ]
  },
  {
   "cell_type": "code",
   "execution_count": 120,
   "id": "0845293a-00f2-42a4-a707-6837db954ce2",
   "metadata": {},
   "outputs": [
    {
     "name": "stdout",
     "output_type": "stream",
     "text": [
      "coinbias\n",
      "[2.73 2.19 0.1  0.02]\n",
      "surveyunbias\n",
      "[0.32 0.06 0.02 0.01]\n"
     ]
    }
   ],
   "source": [
    "for m in data_tru[\"model\"]:\n",
    "   print(m)\n",
    "   gt=float(data_tru[data_tru[\"model\"]==m].iloc[0][\"value\"])\n",
    "   e=abs((np.array(list(map(float,data[data[\"model\"].str.contains(m)][\"value\"].to_numpy())))-gt))*100/gt\n",
    "   print(np.round(e,2))"
   ]
  },
  {
   "cell_type": "markdown",
   "id": "b0082294-6f07-4d13-b9ac-4c614bde05bf",
   "metadata": {},
   "source": [
    "## Paralel Results"
   ]
  },
  {
   "cell_type": "code",
   "execution_count": 181,
   "id": "c71b41c1-85f9-4df0-9cb6-1e8d7690f791",
   "metadata": {},
   "outputs": [],
   "source": [
    "df=pd.read_csv(\"./results/parSensitivity.csv\",names=[\"model\",\"soga_time\",\"soga_value\",\"c\",\"#vars\"],header=None).sort_values(by='#vars', ascending=True)"
   ]
  },
  {
   "cell_type": "code",
   "execution_count": 188,
   "id": "a8c97f50-27ec-42f8-8f2d-f44b06a450fb",
   "metadata": {},
   "outputs": [
    {
     "name": "stdout",
     "output_type": "stream",
     "text": [
      "\\begin{tabular}{rr}\n",
      "\\toprule\n",
      "model & soga_time \\\\\n",
      "\\midrule\n",
      "2 & 418.761000 \\\\\n",
      "4 & 242.853000 \\\\\n",
      "6 & 180.750000 \\\\\n",
      "8 & 153.716000 \\\\\n",
      "10 & 137.941000 \\\\\n",
      "12 & 124.926000 \\\\\n",
      "14 & 120.625000 \\\\\n",
      "16 & 117.373000 \\\\\n",
      "18 & 107.209000 \\\\\n",
      "20 & 108.336000 \\\\\n",
      "\\bottomrule\n",
      "\\end{tabular}\n",
      "\n"
     ]
    }
   ],
   "source": [
    "print(df[[\"model\",\"soga_time\"]].to_latex(index=False))"
   ]
  },
  {
   "cell_type": "code",
   "execution_count": null,
   "id": "8a9a6fdb-e763-4c54-8c33-0a37a5a2ac14",
   "metadata": {},
   "outputs": [],
   "source": []
  }
 ],
 "metadata": {
  "kernelspec": {
   "display_name": "Python 3 (ipykernel)",
   "language": "python",
   "name": "python3"
  },
  "language_info": {
   "codemirror_mode": {
    "name": "ipython",
    "version": 3
   },
   "file_extension": ".py",
   "mimetype": "text/x-python",
   "name": "python",
   "nbconvert_exporter": "python",
   "pygments_lexer": "ipython3",
   "version": "3.9.6"
  }
 },
 "nbformat": 4,
 "nbformat_minor": 5
}
