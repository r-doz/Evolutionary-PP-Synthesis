{
 "cells": [
  {
   "cell_type": "code",
   "execution_count": 29,
   "metadata": {},
   "outputs": [],
   "source": [
    "import pandas as pd\n",
    "import numpy as np\n",
    "from os import getcwd, listdir, path\n",
    "import matplotlib.pyplot as plt\n",
    "import utils\n",
    "from fitness.soga_fitness_trueskills import *\n",
    "import itertools"
   ]
  },
  {
   "cell_type": "code",
   "execution_count": 66,
   "metadata": {},
   "outputs": [],
   "source": [
    "fitness = []\n",
    "#SKETCHES\n",
    "#ex_names = ['mog1_sketch0_30', 'mog1_sketch1_30', 'mog1_sketch2_30', 'mog1_sketch3_30']\n",
    "#programs = ['mog1', 'mog1', 'mog1', 'mog1']\n",
    "#ex_names = ['if_sketch0_30', 'if_sketch1_30', 'if_sketch2_30', 'if_sketch3_30']\n",
    "#programs = ['if', 'if', 'if', 'if']\n",
    "#ex_names = ['biasedtugwar_nosketch_30', 'biasedtugwar_sketch1_30', 'biasedtugwar_sketch2_30', 'biasedtugwar_sketch3_30']\n",
    "#programs = ['biasedtugwar', 'biasedtugwar', 'biasedtugwar', 'biasedtugwar']\n",
    "ex_names = ['easytugwar_sketch0_30', 'easytugwar_sketch1_30', 'easytugwar_sketch2_30', 'easytugwar_sketch3_30']\n",
    "programs = ['easytugwar', 'easytugwar', 'easytugwar', 'easytugwar']\n",
    "\n",
    "labels = ['Nosketch', 'Sketch1', 'Sketch2', 'Sketch3']\n",
    "\n",
    "#NOSKETCH\n",
    "#ex_names = ['biasedtugwar_nosketch_30', 'csi_nosketch','easytugwar_sketch0_30', 'eyecolor_nosketch', 'hurricane_nosketch', 'if_sketch0_30', 'mixedcondition_sketch0_30', 'mog1_sketch0_30', 'multiplebranches_sketch0_30']\n",
    "#ex_names = ['biasedtugwar_sketch1_30', 'burglary_sketch1', 'csi_sketch1','easytugwar_sketch1_30', 'if_sketch1_30', 'mixedcondition_sketch1_30', 'mog1_sketch1_30' ]\n",
    "#programs = ['biasedtugwar', 'csi', 'easytugwar', 'eyecolor', 'hurricane', 'if', 'mixedcondition', 'mog1', 'multiplebranches']\n",
    "#labels = programs\n"
   ]
  },
  {
   "cell_type": "code",
   "execution_count": null,
   "metadata": {},
   "outputs": [],
   "source": [
    "\n",
    "i = 0\n",
    "for name in ex_names:\n",
    "    file_path = path.join(getcwd(), \"..\", \"results\", name, \"best_fitness.csv\")\n",
    "    data_pd = pd.read_csv(file_path, header=None)\n",
    "    #convert to numpy array\n",
    "    data = data_pd.values\n",
    "    #replace nan with -np.inf\n",
    "    #compute median and interquartile range of each row\n",
    "    data = np.nan_to_num(data, nan=-10000)\n",
    "    median = np.median(data, axis=1)\n",
    "    \n",
    "    q1 = np.percentile(data, 25, axis=1)\n",
    "    q3 = np.percentile(data, 75, axis=1)\n",
    "\n",
    "    median = np.where(median == -10000, -np.inf, median)\n",
    "    q1 = np.where(q1 == -10000, -np.inf, q1)\n",
    "    q3 = np.where(q3 == -10000, -np.inf, q3)\n",
    "\n",
    "    df = pd.DataFrame(list(map(list, itertools.zip_longest(*[median, q1, q3], fillvalue=None))), columns=['median', 'q1', 'q3'])\n",
    "    df.to_csv('Figure6/mog1_'+labels[i]+'.tsv', sep=\"\\t\", index=False) \n",
    "    #wherere median, q1, q3 are -1000, replace with -np.inf\n",
    "    \n",
    "    #q1 = np.where(q1 == -1000, -np.inf, q1)\n",
    "    #q3 = np.where(q3 == -1000, -np.inf, q3)\n",
    "    fitness.append([median, q1, q3])\n",
    "    i += 1"
   ]
  },
  {
   "cell_type": "code",
   "execution_count": 47,
   "metadata": {},
   "outputs": [
    {
     "data": {
      "text/plain": [
       "array([         -inf,          -inf,          -inf,          -inf,\n",
       "                -inf,          -inf,          -inf,          -inf,\n",
       "                -inf,          -inf,          -inf,          -inf,\n",
       "                -inf,          -inf,          -inf,          -inf,\n",
       "                -inf,          -inf,          -inf,          -inf,\n",
       "                -inf,          -inf,          -inf,          -inf,\n",
       "                -inf,          -inf,          -inf,          -inf,\n",
       "                -inf,          -inf,          -inf,          -inf,\n",
       "                -inf,          -inf,          -inf,          -inf,\n",
       "                -inf,          -inf,          -inf,          -inf,\n",
       "                -inf,          -inf,          -inf,          -inf,\n",
       "                -inf,          -inf,          -inf,          -inf,\n",
       "                -inf,          -inf,          -inf,          -inf,\n",
       "                -inf,          -inf,          -inf,          -inf,\n",
       "                -inf,          -inf,          -inf,          -inf,\n",
       "                -inf,          -inf,          -inf,          -inf,\n",
       "                -inf,          -inf,          -inf,          -inf,\n",
       "                -inf,          -inf,          -inf,          -inf,\n",
       "                -inf,          -inf,          -inf,          -inf,\n",
       "                -inf,          -inf,          -inf,          -inf,\n",
       "                -inf,          -inf,          -inf,          -inf,\n",
       "                -inf,          -inf,          -inf,          -inf,\n",
       "                -inf,          -inf,          -inf,          -inf,\n",
       "                -inf,          -inf,          -inf,          -inf,\n",
       "                -inf,          -inf,          -inf,          -inf,\n",
       "                -inf,          -inf,          -inf,          -inf,\n",
       "                -inf,          -inf,          -inf,          -inf,\n",
       "                -inf,          -inf,          -inf,          -inf,\n",
       "                -inf,          -inf,          -inf,          -inf,\n",
       "                -inf,          -inf,          -inf,          -inf,\n",
       "                -inf,          -inf,          -inf,          -inf,\n",
       "                -inf,          -inf,          -inf,          -inf,\n",
       "                -inf,          -inf,          -inf,          -inf,\n",
       "                -inf,          -inf,          -inf,          -inf,\n",
       "       -170.43617765, -164.66237768, -164.66237768, -164.66237768,\n",
       "       -164.66237768, -164.66237768, -114.31901159, -114.31901159,\n",
       "       -114.31901159,  -89.04401204,  -89.04401204,  -42.41943091,\n",
       "        -42.41943091,  -42.41943091,  -42.41943091,  -39.43391768,\n",
       "        -39.43391768,  -12.03822116,  -12.03822116,  -12.03822116,\n",
       "        -11.89193967,  -11.89193967,  -11.89193967,  -11.89193967,\n",
       "        -11.89193967,  -11.89193967,  -11.89193967,  -11.77972274,\n",
       "        -11.77972274,  -10.82140374,  -10.82140374,  -10.82140374,\n",
       "        -10.63806143,  -10.63806143,  -10.54661819,  -10.29220591,\n",
       "        -10.29220591,  -10.29220591,  -10.29220591,  -10.05699735,\n",
       "         -9.93368075,   -9.93368075,   -9.93368075,   -9.93368075,\n",
       "         -9.93368075,   -9.93368075,   -9.4841702 ,   -9.15816149,\n",
       "         -9.15816149,   -9.15539096,   -9.15539096,   -9.15539096,\n",
       "         -9.15539096,   -9.15539096,   -9.15539096,   -9.15539096,\n",
       "         -9.15539096,   -8.99746174,   -8.99746174,   -8.99746174,\n",
       "         -8.99746174,   -8.99746174,   -8.99746174,   -8.99746174,\n",
       "         -8.99746174,   -8.99746174,   -8.99746174,   -8.99746174,\n",
       "         -8.8007656 ,   -8.8007656 ,   -8.8007656 ,   -8.8007656 ,\n",
       "         -8.8007656 ,   -8.79419173,   -8.79419173,   -8.79419173,\n",
       "         -8.76843648,   -8.76843648,   -8.76843648,   -8.26865106,\n",
       "         -8.26865106,   -8.26865106,   -8.26865106,   -8.26865106,\n",
       "         -8.26865106,   -8.26865106,   -8.26865106,   -8.26865106,\n",
       "         -8.26865106,   -8.26865106,   -8.26865106,   -8.26865106,\n",
       "         -8.26865106,   -8.26865106,   -8.26865106,   -8.26865106,\n",
       "         -8.26865106,   -8.26865106,   -8.26865106,   -8.26865106,\n",
       "         -8.26865106,   -8.26865106,   -8.26865106,   -8.26865106,\n",
       "         -8.26865106,   -8.20864809,   -8.20777791,   -8.20777791,\n",
       "         -8.20777791,   -8.20777791,   -8.20777791,   -8.20777791,\n",
       "         -8.20777791,   -8.16911893,   -8.16911893,   -8.16911893,\n",
       "         -8.16911893,   -8.16911893,   -8.16911893,   -8.16911893,\n",
       "         -8.09987129,   -8.09987129,   -8.09987129,   -8.09987129,\n",
       "         -8.09987129,   -8.09987129,   -8.00893474,   -8.00893474,\n",
       "         -7.927722  ,   -7.927722  ,   -7.78953146,   -7.78953146,\n",
       "         -7.78953146,   -7.78953146,   -7.78953146,   -7.78953146,\n",
       "         -7.78953146,   -7.78114316,   -7.78114316,   -7.78114316,\n",
       "         -7.78114316,   -7.76805425,   -7.76805425,   -7.76493993,\n",
       "         -7.76493993,   -7.76493993,   -7.73238838,   -7.72587318,\n",
       "         -7.72382433,   -7.72382433,   -7.67921184,   -7.67921184,\n",
       "         -7.67921184,   -7.67921184,   -7.67921184,   -7.59652309,\n",
       "         -7.59652309,   -7.59652309,   -7.59652309,   -7.59652309,\n",
       "         -7.59652309,   -7.48058858,   -7.48058858,   -7.48058858,\n",
       "         -7.48058858,   -7.48058858,   -7.48058858,   -7.47483448,\n",
       "         -7.47483448,   -7.47483448,   -7.47483448,   -7.30165918,\n",
       "         -7.30165918,   -7.30165918,   -7.29934452,   -7.29934452,\n",
       "         -7.29934452,   -7.29934452,   -7.27377134,   -7.27377134,\n",
       "         -7.27377134,   -7.27152239,   -7.27152239,   -7.27077492,\n",
       "         -7.27077492,   -7.27077492,   -7.27077492,   -7.19337046,\n",
       "         -7.02053968,   -7.02053968,   -7.02053968,   -7.02053968,\n",
       "         -7.02053968,   -7.00367135,   -7.00367135,   -7.00367135,\n",
       "         -7.00367135,   -7.00367135,   -7.00367135,   -6.95685029,\n",
       "         -6.95685029,   -6.95685029,   -6.95685029,   -6.95685029,\n",
       "         -6.95685029,   -6.92952783,   -6.91234379,   -6.91234379,\n",
       "         -6.91234379,   -6.91234379,   -6.91234379,   -6.91234379,\n",
       "         -6.91234379,   -6.91234379,   -6.91234379,   -6.91234379,\n",
       "         -6.91112394,   -6.91112394,   -6.91112394,   -6.89098993,\n",
       "         -6.89098993,   -6.89098993,   -6.89098993,   -6.89098993,\n",
       "         -6.89098993,   -6.89098993,   -6.89098993,   -6.89098993,\n",
       "         -6.88573165,   -6.88573165,   -6.88573165,   -6.88573165,\n",
       "         -6.88573165,   -6.88573165,   -6.88573165,   -6.88573165,\n",
       "         -6.88573165,   -6.88573165,   -6.87730586,   -6.87730586,\n",
       "         -6.87730586,   -6.85505587,   -6.85505587,   -6.85505587,\n",
       "         -6.85505587,   -6.85505587,   -6.85505587,   -6.85505587,\n",
       "         -6.85505587,   -6.85505587,   -6.85505587,   -6.85505587,\n",
       "         -6.85505587,   -6.85505587,   -6.85505587,   -6.85505587,\n",
       "         -6.85505587,   -6.85505587,   -6.85505587,   -6.85505587,\n",
       "         -6.85505587,   -6.85505587,   -6.85505587,   -6.85505587,\n",
       "         -6.85505587,   -6.85505587,   -6.85505587,   -6.85505587,\n",
       "         -6.85505587,   -6.85505587,   -6.7929232 ,   -6.7929232 ,\n",
       "         -6.7929232 ,   -6.7929232 ,   -6.7929232 ,   -6.7929232 ,\n",
       "         -6.7929232 ,   -6.7929232 ,   -6.7929232 ,   -6.7929232 ,\n",
       "         -6.7929232 ,   -6.7929232 ,   -6.7929232 ,   -6.7929232 ,\n",
       "         -6.7929232 ,   -6.7929232 ,   -6.7929232 ,   -6.7929232 ,\n",
       "         -6.7929232 ,   -6.7929232 ,   -6.7929232 ,   -6.7929232 ,\n",
       "         -6.7929232 ,   -6.7929232 ,   -6.7929232 ,   -6.7929232 ,\n",
       "         -6.7929232 ,   -6.7929232 ,   -6.7929232 ,   -6.7929232 ,\n",
       "         -6.7929232 ,   -6.7929232 ,   -6.76229694,   -6.76229694,\n",
       "         -6.76229694,   -6.76229694,   -6.76229694,   -6.76229694,\n",
       "         -6.76229694,   -6.76229694,   -6.76229694,   -6.76229694,\n",
       "         -6.76229694,   -6.76229694,   -6.76229694,   -6.76229694,\n",
       "         -6.76229694,   -6.76229694,   -6.76229694,   -6.76229694,\n",
       "         -6.76229694,   -6.7211222 ,   -6.7211222 ,   -6.7211222 ,\n",
       "         -6.7211222 ,   -6.7211222 ,   -6.7211222 ,   -6.7211222 ,\n",
       "         -6.7211222 ,   -6.7211222 ,   -6.7211222 ,   -6.7211222 ,\n",
       "         -6.7211222 ,   -6.7211222 ,   -6.7211222 ,   -6.7211222 ,\n",
       "         -6.7211222 ,   -6.57812239,   -6.57812239,   -6.57812239,\n",
       "         -6.57812239,   -6.57812239,   -6.55952206,   -6.55952206,\n",
       "         -6.55952206,   -6.55952206,   -6.55952206,   -6.55952206,\n",
       "         -6.55952206,   -6.55952206,   -6.55952206,   -6.53415282,\n",
       "         -6.51916878,   -6.45527939,   -6.45527939,   -6.45527939,\n",
       "         -6.45527939,   -6.45527939,   -6.45527939,   -6.45527939,\n",
       "         -6.41708541,   -6.41708541,   -6.41708541,   -6.41708541,\n",
       "         -6.41708541])"
      ]
     },
     "execution_count": 47,
     "metadata": {},
     "output_type": "execute_result"
    }
   ],
   "source": [
    "fitness[0][0]"
   ]
  },
  {
   "cell_type": "code",
   "execution_count": 57,
   "metadata": {},
   "outputs": [
    {
     "data": {
      "image/png": "[encoded data removed]",
      "text/plain": [
       "<Figure size 640x480 with 1 Axes>"
      ]
     },
     "metadata": {},
     "output_type": "display_data"
    }
   ],
   "source": [
    "for i in range(len(ex_names)):\n",
    "    plt.plot(range(len(fitness[i][0])), fitness[i][0], label=labels[i])\n",
    "    plt.fill_between(range(len(fitness[i][0])), fitness[i][1], fitness[i][2], alpha=0.3)\n",
    "plt.legend()\n",
    "plt.ylim(-800, 5)\n",
    "plt.show()"
   ]
  },
  {
   "cell_type": "code",
   "execution_count": 32,
   "metadata": {},
   "outputs": [
    {
     "data": {
      "text/plain": [
       "9"
      ]
     },
     "execution_count": 32,
     "metadata": {},
     "output_type": "execute_result"
    }
   ],
   "source": [
    "len(ex_names)"
   ]
  },
  {
   "cell_type": "code",
   "execution_count": 67,
   "metadata": {},
   "outputs": [
    {
     "name": "stdout",
     "output_type": "stream",
     "text": [
      "run  Rominas-Air.lan_25_1_21_211820_257045_27013_26  did not converge\n"
     ]
    },
    {
     "data": {
      "image/png": "[encoded data removed]",
      "text/plain": [
       "<Figure size 640x480 with 1 Axes>"
      ]
     },
     "metadata": {},
     "output_type": "display_data"
    }
   ],
   "source": [
    "#create a boxplot with the median and the interquartile range\n",
    "import pandas as pd\n",
    "fitness_5000 = []\n",
    "i = 0\n",
    "for name in ex_names:\n",
    "    fitness_5000_i, _ = utils.read_fitness_and_program(name)\n",
    "    #remove nan values\n",
    "    fitness_5000_i = np.array(fitness_5000_i)\n",
    "    fitness_5000_i = fitness_5000_i[~np.isnan(fitness_5000_i)]\n",
    "    #calculate the baseline\n",
    "    path_baseline = path.join(getcwd(), \"..\", \"baselines\", programs[i] + \".soga\")\n",
    "    file = open(path_baseline)\n",
    "    text_baseline = ''\n",
    "    for line in file.readlines():\n",
    "        text_baseline += line + ' '\n",
    "\n",
    "    fitness_bl = likelihood_of_program_wrt_data(text_baseline, program=programs[i], data_size = 5000)\n",
    "    fitness_5000_i = (np.abs(fitness_5000_i) - np.abs(fitness_bl)) / np.abs(fitness_bl)\n",
    "    fitness_5000.append(fitness_5000_i)\n",
    "    i += 1\n",
    "\n",
    "plt.boxplot(fitness_5000, labels=labels)\n",
    "plt.ylabel('Relative Fitness Error')\n",
    "plt.title(programs[0])\n",
    "plt.show()\n",
    "\n"
   ]
  },
  {
   "cell_type": "code",
   "execution_count": 68,
   "metadata": {},
   "outputs": [],
   "source": [
    "\n",
    "df = pd.DataFrame(list(map(list, itertools.zip_longest(*fitness_5000, fillvalue=None))), columns=labels)\n",
    "df.head(31)\n",
    "df.to_csv('Figure5/'+programs[0]+'.tsv', sep=\"\\t\", index=False) "
   ]
  },
  {
   "cell_type": "code",
   "execution_count": 35,
   "metadata": {},
   "outputs": [
    {
     "data": {
      "text/plain": [
       "[array([0.32527696, 0.17195543, 0.35544384, 0.1865643 , 0.12862438,\n",
       "        0.25314857, 0.14679112, 0.15407466, 0.2144436 , 0.17329247,\n",
       "        0.35903701, 0.18166702, 0.07798625, 0.14141313, 0.27678556,\n",
       "        0.16420189, 0.41407698, 0.03039293, 0.0792177 , 0.14498729,\n",
       "        0.56349441, 0.16311049, 0.12945044, 0.21148589, 0.1337114 ,\n",
       "        0.37190548, 0.64452533, 0.17729851, 0.1578707 , 0.05160226]),\n",
       " array([0.14602546, 0.26378472, 0.17974578, 0.12605127, 0.55002513,\n",
       "        0.33389277, 0.12230486, 0.15745576, 0.20313343, 0.12980208,\n",
       "        0.14701348]),\n",
       " array([0.12619649, 0.11169243, 0.13810517, 0.0694889 , 0.20100721,\n",
       "        0.12814477, 0.11882885, 0.12838077, 0.11856073, 0.09892985,\n",
       "        0.09611943, 0.13603217, 0.12624416, 0.12551512, 0.14681191,\n",
       "        0.11668073, 0.10605638, 0.09383377, 0.12339216, 0.21551565,\n",
       "        0.10963141, 0.1180033 , 0.10429193, 0.15181563, 0.16834562,\n",
       "        0.17902361, 0.1097569 , 0.08703844, 0.14488019, 0.1398248 ]),\n",
       " array([0.78213421, 0.23569674]),\n",
       " array([0.07174294, 0.13446982, 0.18359407, 0.04575194, 0.0941864 ,\n",
       "        0.12842509, 0.12654464, 0.11759057, 0.06607584, 0.10362472,\n",
       "        0.20831884, 0.15518589, 0.10196086, 0.07650624, 0.02166795,\n",
       "        0.0867419 , 0.14884532, 0.24272368, 0.09415509, 0.13322158,\n",
       "        0.17550792, 0.09913018, 0.11745462, 0.0940935 , 0.09633283,\n",
       "        0.1365127 , 0.07731295, 0.14442517, 0.12675535, 0.08409344]),\n",
       " array([0.32401859, 0.33260278, 0.43800732, 0.48298171, 0.50066904,\n",
       "        0.50403277, 0.54300902, 0.42127469, 0.58559508, 0.46927237,\n",
       "        0.40100396, 0.40320955, 0.46976407, 0.39058632, 0.55690686,\n",
       "        0.39105294, 0.44010247, 0.37308569, 0.40204926, 0.39800658,\n",
       "        0.61876954, 0.28670875, 0.30334369, 0.22431961, 0.49438208,\n",
       "        0.49743001, 0.35984548, 0.62298233, 0.53947696, 0.61147445]),\n",
       " array([0.08269329, 0.1163963 , 0.11885802, 0.06377017, 0.21935428,\n",
       "        0.04296791, 0.01125341, 0.04997456, 0.34524687, 0.35531431,\n",
       "        0.12733069, 0.08947386, 0.17350894, 0.08995556, 0.30460369,\n",
       "        0.03915676, 0.07354789, 0.19420222, 0.04407991, 0.25785067,\n",
       "        0.92646265, 0.04889203, 0.0843267 , 0.06877064, 0.12425908,\n",
       "        0.10199943, 0.37873783, 0.11960952, 0.08357079, 0.09271025]),\n",
       " array([0.16193996, 0.2412904 , 0.18353695, 0.13411968, 0.10816128,\n",
       "        0.18733177, 0.30172422, 0.25379582, 0.16319163, 0.23227373,\n",
       "        0.30978475, 0.20292152, 0.20746231, 0.26186193, 0.15790386,\n",
       "        0.28485297, 0.23973129, 0.13137095, 0.20696483, 0.16080953,\n",
       "        0.24822864, 0.2509108 , 0.27671429, 0.17406284, 0.2688794 ,\n",
       "        0.07704262, 0.29367938, 0.17376089, 0.2833362 , 0.17596749]),\n",
       " array([0.14236206, 0.10929239, 0.12250069, 0.08099279, 0.06883022,\n",
       "        0.06977897, 0.10756187, 0.14550135, 0.0962261 , 0.17455627,\n",
       "        0.09097862, 0.0799395 , 0.08151307, 0.10453187, 0.1003279 ,\n",
       "        0.10315897, 0.13608369, 0.06884205, 0.0931871 , 0.1194378 ,\n",
       "        0.12352593, 0.08515846, 0.13731899, 0.08674222, 0.14695861,\n",
       "        0.0746204 , 0.07626736, 0.1459515 , 0.11752159, 0.22344436])]"
      ]
     },
     "execution_count": 35,
     "metadata": {},
     "output_type": "execute_result"
    }
   ],
   "source": [
    "fitness_5000"
   ]
  }
 ],
 "metadata": {
  "kernelspec": {
   "display_name": "neuralodes",
   "language": "python",
   "name": "python3"
  },
  "language_info": {
   "codemirror_mode": {
    "name": "ipython",
    "version": 3
   },
   "file_extension": ".py",
   "mimetype": "text/x-python",
   "name": "python",
   "nbconvert_exporter": "python",
   "pygments_lexer": "ipython3",
   "version": "3.11.6"
  }
 },
 "nbformat": 4,
 "nbformat_minor": 2
}
