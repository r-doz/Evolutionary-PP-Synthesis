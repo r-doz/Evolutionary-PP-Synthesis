{
 "cells": [
  {
   "cell_type": "code",
   "execution_count": 9,
   "metadata": {},
   "outputs": [],
   "source": [
    "import sys\n",
    "import numpy as np\n",
    "from scipy.stats import multivariate_normal\n",
    "import signal\n",
    "import torch\n",
    "import re\n",
    "import pandas as pd\n",
    "from torch.distributions.multivariate_normal import MultivariateNormal\n",
    "# caution: path[0] is reserved for script path (or '' in REPL)\n",
    "sys.path.insert(1, '../SOGA-main/src')\n",
    "from sogaPreprocessor import *\n",
    "from producecfg import *\n",
    "from libSOGA import *\n",
    "\n",
    "torch.set_default_dtype(torch.float64)\n",
    "from fitness.soga_fitness_trueskills import *"
   ]
  },
  {
   "cell_type": "code",
   "execution_count": 10,
   "metadata": {},
   "outputs": [],
   "source": [
    "model_name = 'mog1'"
   ]
  },
  {
   "cell_type": "code",
   "execution_count": 11,
   "metadata": {},
   "outputs": [
    {
     "name": "stdout",
     "output_type": "stream",
     "text": [
      "Average fitness of best found program on 5000 data:  -7.886998767439126\n",
      "Fitness of best found program:  -6.988155421378471\n",
      "Fitness of baseline:  -6.103008608975963\n",
      "mu = gm([30, 19.4, 2], [0.4, 25.1, 13], [25.2, 26.2, 28.4], [19.2, 19.4, 2], [12.3, 9, 30.3]); \n",
      " sigma = mu  - uniform([9, 15.1], 2); \n",
      " x = mu + 2  * gm([19.4, 1, 0.9]);\n",
      " \n",
      " \n"
     ]
    }
   ],
   "source": [
    "from os import getcwd, listdir, path, sep\n",
    "\n",
    "file_path = path.join(getcwd(), \"..\", \"results\")\n",
    "file_path = path.join(file_path, model_name)\n",
    "\n",
    "# Find list of all runs contained in the specified folder.\n",
    "runs = [run for run in listdir(file_path) if\n",
    "        path.isdir(path.join(file_path, run))]\n",
    "\n",
    "avg_fitness_5000 = []\n",
    "\n",
    "# Iterate over all runs\n",
    "for run in runs:\n",
    "    # Get file name\n",
    "    file_name = path.join(file_path, str(run), \"best.txt\")\n",
    "\n",
    "    try:\n",
    "        # Load in data\n",
    "        file = open(file_name) \n",
    "    except:\n",
    "        avg_fitness_5000.append(np.nan)\n",
    "        continue\n",
    "    flag = False\n",
    "    for line in file.readlines():\n",
    "        if 'Fitness on 5000 data' in line:\n",
    "            flag = True\n",
    "            continue\n",
    "        if flag:\n",
    "            avg_fitness_5000.append(float(line[:-2]))\n",
    "            break\n",
    "\n",
    "print('Average fitness of best found program on 5000 data: ', np.nanmean(avg_fitness_5000))\n",
    "best_program_file = path.join(file_path, str(runs[np.nanargmax(avg_fitness_5000)]), \"best.txt\")\n",
    "file = open(best_program_file)\n",
    "text_bf = ''\n",
    "flag = False\n",
    "for line in file.readlines():\n",
    "    if 'Phenotype' in line:\n",
    "        flag = True\n",
    "        continue\n",
    "    if 'Genotype' in line:\n",
    "        flag = False\n",
    "        break\n",
    "    if flag:\n",
    "        text_bf += line + ' '\n",
    "\n",
    "fitness_bf = likelihood_of_program_wrt_data(text_bf)\n",
    "\n",
    "text_baseline = 'mu = gm([1, 20, 3]);\\nsigma = gm([1,2,1]);\\nx = sigma * gm([1,1,1]);\\nx = x + mu;'\n",
    "\n",
    "fitness_bl = likelihood_of_program_wrt_data(text_baseline)\n",
    "\n",
    "print('Fitness of best found program: ', fitness_bf)\n",
    "print('Fitness of baseline: ', fitness_bl)\n",
    "print(text_bf) "
   ]
  },
  {
   "cell_type": "code",
   "execution_count": 12,
   "metadata": {},
   "outputs": [],
   "source": [
    "# Computes SOGA distributions for best found and baseline\n",
    "\n",
    "soga_bf = preprocess_program(text_bf)\n",
    "compiledText=compile2SOGA_text(soga_bf)\n",
    "cfg = produce_cfg_text(compiledText)\n",
    "output_dist = start_SOGA(cfg)\n",
    "\n",
    "soga_baseline = preprocess_program(text_baseline)\n",
    "compiledText_baseline=compile2SOGA_text(soga_baseline)\n",
    "cfg_baseline = produce_cfg_text(compiledText_baseline)\n",
    "output_dist_baseline = start_SOGA(cfg_baseline)"
   ]
  },
  {
   "cell_type": "code",
   "execution_count": 13,
   "metadata": {},
   "outputs": [],
   "source": [
    "# Generates data from original data generating process \n",
    "\n",
    "from fitness import data_generating_process as dgp  \n",
    "\n",
    "data = dgp.generate_dataset(model_name, 100)\n",
    "data_var_list, dependencies, weights = dgp.get_vars(model_name)"
   ]
  },
  {
   "cell_type": "code",
   "execution_count": 14,
   "metadata": {},
   "outputs": [],
   "source": [
    "def get_mixture_pdf(point, var, dist):\n",
    "    pdf = 0\n",
    "    #indexes = {element: [index for index, value in enumerate(output_dist.var_list) if value == element] for element in data_var_list}\n",
    "    for i in range(dist.gm.n_comp()):\n",
    "        marginal_means = []\n",
    "        covariance_index = []\n",
    "        #for element, index_list in indexes.items():\n",
    "        marginal_means.append(dist.gm.mu[i][dist.var_list.index(var)])\n",
    "        covariance_index.append(dist.var_list.index(var))\n",
    "\n",
    "        marginal_covariance_matrix = dist.gm.sigma[i][np.ix_(covariance_index,covariance_index)]\n",
    "        \n",
    "        pdf+= dist.gm.pi[i] * multivariate_normal.pdf(point, mean = marginal_means, cov = marginal_covariance_matrix, allow_singular=True)\n",
    "\n",
    "    return pdf\n",
    "        "
   ]
  },
  {
   "cell_type": "code",
   "execution_count": null,
   "metadata": {},
   "outputs": [
    {
     "name": "stderr",
     "output_type": "stream",
     "text": [
      "/var/folders/wj/s0d4084s7rz93njmy26_wwnw0000gn/T/ipykernel_7951/1418629202.py:16: MatplotlibDeprecationWarning: The get_cmap function was deprecated in Matplotlib 3.7 and will be removed two minor releases later. Use ``matplotlib.colormaps[name]`` or ``matplotlib.colormaps.get_cmap(obj)`` instead.\n",
      "  colormap = cm.get_cmap('viridis', len(data_var_list))\n"
     ]
    },
    {
     "ename": "FloatingPointError",
     "evalue": "underflow encountered in exp",
     "output_type": "error",
     "traceback": [
      "\u001b[0;31m---------------------------------------------------------------------------\u001b[0m",
      "\u001b[0;31mFloatingPointError\u001b[0m                        Traceback (most recent call last)",
      "Cell \u001b[0;32mIn[15], line 37\u001b[0m\n\u001b[1;32m     35\u001b[0m x \u001b[38;5;241m=\u001b[39m torch\u001b[38;5;241m.\u001b[39mtensor(x)\n\u001b[1;32m     36\u001b[0m \u001b[38;5;66;03m# plots\u001b[39;00m\n\u001b[0;32m---> 37\u001b[0m axs[i]\u001b[38;5;241m.\u001b[39mplot(x, \u001b[43m[\u001b[49m\u001b[43mget_mixture_pdf\u001b[49m\u001b[43m(\u001b[49m\u001b[43m[\u001b[49m\u001b[43mxi\u001b[49m\u001b[43m]\u001b[49m\u001b[43m,\u001b[49m\u001b[43m \u001b[49m\u001b[43mvar\u001b[49m\u001b[43m,\u001b[49m\u001b[43m \u001b[49m\u001b[43moutput_dist_baseline\u001b[49m\u001b[43m)\u001b[49m\u001b[43m \u001b[49m\u001b[38;5;28;43;01mfor\u001b[39;49;00m\u001b[43m \u001b[49m\u001b[43mxi\u001b[49m\u001b[43m \u001b[49m\u001b[38;5;129;43;01min\u001b[39;49;00m\u001b[43m \u001b[49m\u001b[43mx\u001b[49m\u001b[43m]\u001b[49m, label\u001b[38;5;241m=\u001b[39m\u001b[38;5;124m'\u001b[39m\u001b[38;5;124mProgram\u001b[39m\u001b[38;5;124m'\u001b[39m, color\u001b[38;5;241m=\u001b[39m\u001b[38;5;124m'\u001b[39m\u001b[38;5;124m#333366\u001b[39m\u001b[38;5;124m'\u001b[39m)   \n\u001b[1;32m     38\u001b[0m axs[i]\u001b[38;5;241m.\u001b[39mhist([pair[i] \u001b[38;5;28;01mfor\u001b[39;00m pair \u001b[38;5;129;01min\u001b[39;00m data], bins\u001b[38;5;241m=\u001b[39m\u001b[38;5;241m50\u001b[39m, density\u001b[38;5;241m=\u001b[39m\u001b[38;5;28;01mTrue\u001b[39;00m, alpha\u001b[38;5;241m=\u001b[39m\u001b[38;5;241m0.5\u001b[39m, color\u001b[38;5;241m=\u001b[39mcolor, label\u001b[38;5;241m=\u001b[39m\u001b[38;5;124m'\u001b[39m\u001b[38;5;124mData\u001b[39m\u001b[38;5;124m'\u001b[39m)\n\u001b[1;32m     39\u001b[0m axs[i]\u001b[38;5;241m.\u001b[39mset_title(\u001b[38;5;124mf\u001b[39m\u001b[38;5;124m'\u001b[39m\u001b[38;5;124mMarginal distribution of \u001b[39m\u001b[38;5;124m\"\u001b[39m\u001b[38;5;132;01m{\u001b[39;00mvar\u001b[38;5;132;01m}\u001b[39;00m\u001b[38;5;124m\"\u001b[39m\u001b[38;5;124m'\u001b[39m)\n",
      "Cell \u001b[0;32mIn[15], line 37\u001b[0m, in \u001b[0;36m<listcomp>\u001b[0;34m(.0)\u001b[0m\n\u001b[1;32m     35\u001b[0m x \u001b[38;5;241m=\u001b[39m torch\u001b[38;5;241m.\u001b[39mtensor(x)\n\u001b[1;32m     36\u001b[0m \u001b[38;5;66;03m# plots\u001b[39;00m\n\u001b[0;32m---> 37\u001b[0m axs[i]\u001b[38;5;241m.\u001b[39mplot(x, [\u001b[43mget_mixture_pdf\u001b[49m\u001b[43m(\u001b[49m\u001b[43m[\u001b[49m\u001b[43mxi\u001b[49m\u001b[43m]\u001b[49m\u001b[43m,\u001b[49m\u001b[43m \u001b[49m\u001b[43mvar\u001b[49m\u001b[43m,\u001b[49m\u001b[43m \u001b[49m\u001b[43moutput_dist_baseline\u001b[49m\u001b[43m)\u001b[49m \u001b[38;5;28;01mfor\u001b[39;00m xi \u001b[38;5;129;01min\u001b[39;00m x], label\u001b[38;5;241m=\u001b[39m\u001b[38;5;124m'\u001b[39m\u001b[38;5;124mProgram\u001b[39m\u001b[38;5;124m'\u001b[39m, color\u001b[38;5;241m=\u001b[39m\u001b[38;5;124m'\u001b[39m\u001b[38;5;124m#333366\u001b[39m\u001b[38;5;124m'\u001b[39m)   \n\u001b[1;32m     38\u001b[0m axs[i]\u001b[38;5;241m.\u001b[39mhist([pair[i] \u001b[38;5;28;01mfor\u001b[39;00m pair \u001b[38;5;129;01min\u001b[39;00m data], bins\u001b[38;5;241m=\u001b[39m\u001b[38;5;241m50\u001b[39m, density\u001b[38;5;241m=\u001b[39m\u001b[38;5;28;01mTrue\u001b[39;00m, alpha\u001b[38;5;241m=\u001b[39m\u001b[38;5;241m0.5\u001b[39m, color\u001b[38;5;241m=\u001b[39mcolor, label\u001b[38;5;241m=\u001b[39m\u001b[38;5;124m'\u001b[39m\u001b[38;5;124mData\u001b[39m\u001b[38;5;124m'\u001b[39m)\n\u001b[1;32m     39\u001b[0m axs[i]\u001b[38;5;241m.\u001b[39mset_title(\u001b[38;5;124mf\u001b[39m\u001b[38;5;124m'\u001b[39m\u001b[38;5;124mMarginal distribution of \u001b[39m\u001b[38;5;124m\"\u001b[39m\u001b[38;5;132;01m{\u001b[39;00mvar\u001b[38;5;132;01m}\u001b[39;00m\u001b[38;5;124m\"\u001b[39m\u001b[38;5;124m'\u001b[39m)\n",
      "Cell \u001b[0;32mIn[14], line 13\u001b[0m, in \u001b[0;36mget_mixture_pdf\u001b[0;34m(point, var, dist)\u001b[0m\n\u001b[1;32m      9\u001b[0m     covariance_index\u001b[38;5;241m.\u001b[39mappend(dist\u001b[38;5;241m.\u001b[39mvar_list\u001b[38;5;241m.\u001b[39mindex(var))\n\u001b[1;32m     11\u001b[0m     marginal_covariance_matrix \u001b[38;5;241m=\u001b[39m dist\u001b[38;5;241m.\u001b[39mgm\u001b[38;5;241m.\u001b[39msigma[i][np\u001b[38;5;241m.\u001b[39mix_(covariance_index,covariance_index)]\n\u001b[0;32m---> 13\u001b[0m     pdf\u001b[38;5;241m+\u001b[39m\u001b[38;5;241m=\u001b[39m dist\u001b[38;5;241m.\u001b[39mgm\u001b[38;5;241m.\u001b[39mpi[i] \u001b[38;5;241m*\u001b[39m \u001b[43mmultivariate_normal\u001b[49m\u001b[38;5;241;43m.\u001b[39;49m\u001b[43mpdf\u001b[49m\u001b[43m(\u001b[49m\u001b[43mpoint\u001b[49m\u001b[43m,\u001b[49m\u001b[43m \u001b[49m\u001b[43mmean\u001b[49m\u001b[43m \u001b[49m\u001b[38;5;241;43m=\u001b[39;49m\u001b[43m \u001b[49m\u001b[43mmarginal_means\u001b[49m\u001b[43m,\u001b[49m\u001b[43m \u001b[49m\u001b[43mcov\u001b[49m\u001b[43m \u001b[49m\u001b[38;5;241;43m=\u001b[39;49m\u001b[43m \u001b[49m\u001b[43mmarginal_covariance_matrix\u001b[49m\u001b[43m,\u001b[49m\u001b[43m \u001b[49m\u001b[43mallow_singular\u001b[49m\u001b[38;5;241;43m=\u001b[39;49m\u001b[38;5;28;43;01mTrue\u001b[39;49;00m\u001b[43m)\u001b[49m\n\u001b[1;32m     15\u001b[0m \u001b[38;5;28;01mreturn\u001b[39;00m pdf\n",
      "File \u001b[0;32m~/micromamba/envs/neuralodes/lib/python3.11/site-packages/scipy/stats/_multivariate.py:587\u001b[0m, in \u001b[0;36mmultivariate_normal_gen.pdf\u001b[0;34m(self, x, mean, cov, allow_singular)\u001b[0m\n\u001b[1;32m    585\u001b[0m dim, mean, cov_object \u001b[38;5;241m=\u001b[39m params\n\u001b[1;32m    586\u001b[0m x \u001b[38;5;241m=\u001b[39m \u001b[38;5;28mself\u001b[39m\u001b[38;5;241m.\u001b[39m_process_quantiles(x, dim)\n\u001b[0;32m--> 587\u001b[0m out \u001b[38;5;241m=\u001b[39m \u001b[43mnp\u001b[49m\u001b[38;5;241;43m.\u001b[39;49m\u001b[43mexp\u001b[49m\u001b[43m(\u001b[49m\u001b[38;5;28;43mself\u001b[39;49m\u001b[38;5;241;43m.\u001b[39;49m\u001b[43m_logpdf\u001b[49m\u001b[43m(\u001b[49m\u001b[43mx\u001b[49m\u001b[43m,\u001b[49m\u001b[43m \u001b[49m\u001b[43mmean\u001b[49m\u001b[43m,\u001b[49m\u001b[43m \u001b[49m\u001b[43mcov_object\u001b[49m\u001b[43m)\u001b[49m\u001b[43m)\u001b[49m\n\u001b[1;32m    588\u001b[0m \u001b[38;5;28;01mif\u001b[39;00m np\u001b[38;5;241m.\u001b[39many(cov_object\u001b[38;5;241m.\u001b[39mrank \u001b[38;5;241m<\u001b[39m dim):\n\u001b[1;32m    589\u001b[0m     out_of_bounds \u001b[38;5;241m=\u001b[39m \u001b[38;5;241m~\u001b[39mcov_object\u001b[38;5;241m.\u001b[39m_support_mask(x\u001b[38;5;241m-\u001b[39mmean)\n",
      "\u001b[0;31mFloatingPointError\u001b[0m: underflow encountered in exp"
     ]
    }
   ],
   "source": [
    "import matplotlib\n",
    "matplotlib.use('TkAgg') \n",
    "\n",
    "import matplotlib.pyplot as plt\n",
    "import numpy as np\n",
    "import torch\n",
    "import matplotlib.cm as cm\n",
    "\n",
    "\n",
    "# Define the range for the uniform distribution\n",
    "x = np.linspace(-10, 10, 500)\n",
    "x = torch.tensor(x)\n",
    "\n",
    "# Assuming data_var_list is defined\n",
    "#data_var_list = ['a', 'b']  # Example list, replace with your actual list\n",
    "colormap = cm.get_cmap('viridis', len(data_var_list))\n",
    "colors = [colormap(i) for i in range(len(data_var_list))]\n",
    "\n",
    "\n",
    "# Create a figure with subplots\n",
    "fig, axs = plt.subplots(1, len(data_var_list), figsize=(14, 6))\n",
    "\n",
    "# If there's only one element in data_var_list, axs will not be an array, so we need to handle that case\n",
    "if len(data_var_list) == 1:\n",
    "    axs = [axs]\n",
    "\n",
    "# Loop through each element in data_var_list and create a subplot\n",
    "for i, var in enumerate(data_var_list):\n",
    "    color = colors[i]\n",
    "    # select the x axis\n",
    "    idx = output_dist.var_list.index(var)\n",
    "    mean = output_dist.gm.mean()[idx]\n",
    "    std = np.sqrt(output_dist.gm.cov()[idx, idx])\n",
    "    x = np.linspace(mean-2*std, mean+2*std, 500)\n",
    "    x = torch.tensor(x)\n",
    "    # plots\n",
    "    axs[i].plot(x, [get_mixture_pdf([xi], var, output_dist_baseline) for xi in x], label='Program', color='#333366')   \n",
    "    axs[i].hist([pair[i] for pair in data], bins=50, density=True, alpha=0.5, color=color, label='Data')\n",
    "    axs[i].set_title(f'Marginal distribution of \"{var}\"')\n",
    "    axs[i].set_xlabel(f\"{var}\")\n",
    "    axs[i].set_ylabel(\"Probability Density\")\n",
    "    axs[i].spines['right'].set_visible(False)\n",
    "    axs[i].spines['top'].set_visible(False)\n",
    "    axs[i].grid(True)\n",
    "    axs[i].legend()\n",
    "\n",
    "# Adjust layout and show the plot\n",
    "plt.tight_layout()\n",
    "plt.show()"
   ]
  },
  {
   "cell_type": "code",
   "execution_count": null,
   "metadata": {},
   "outputs": [],
   "source": []
  },
  {
   "cell_type": "code",
   "execution_count": null,
   "metadata": {},
   "outputs": [
    {
     "ename": "IndexError",
     "evalue": "index 0 is out of bounds for axis 0 with size 0",
     "output_type": "error",
     "traceback": [
      "\u001b[1;31m---------------------------------------------------------------------------\u001b[0m",
      "\u001b[1;31mIndexError\u001b[0m                                Traceback (most recent call last)",
      "Cell \u001b[1;32mIn[43], line 44\u001b[0m\n\u001b[0;32m     42\u001b[0m fig2 \u001b[38;5;241m=\u001b[39m plt\u001b[38;5;241m.\u001b[39mfigure()\n\u001b[0;32m     43\u001b[0m ax2 \u001b[38;5;241m=\u001b[39m fig2\u001b[38;5;241m.\u001b[39madd_subplot(\u001b[38;5;241m111\u001b[39m)\n\u001b[1;32m---> 44\u001b[0m ax2\u001b[38;5;241m.\u001b[39mcontourf(x, y, \u001b[43mget_mixture_pdf\u001b[49m\u001b[43m(\u001b[49m\u001b[43mpos\u001b[49m\u001b[43m,\u001b[49m\u001b[43m \u001b[49m\u001b[43mdata_var_list\u001b[49m\u001b[38;5;241;43m=\u001b[39;49m\u001b[43m[\u001b[49m\u001b[38;5;124;43m'\u001b[39;49m\u001b[38;5;124;43ma\u001b[39;49m\u001b[38;5;124;43m'\u001b[39;49m\u001b[43m,\u001b[49m\u001b[43m \u001b[49m\u001b[38;5;124;43m'\u001b[39;49m\u001b[38;5;124;43mb\u001b[39;49m\u001b[38;5;124;43m'\u001b[39;49m\u001b[43m]\u001b[49m\u001b[43m)\u001b[49m)\n\u001b[0;32m     45\u001b[0m ax2\u001b[38;5;241m.\u001b[39mscatter([pair[\u001b[38;5;241m0\u001b[39m] \u001b[38;5;28;01mfor\u001b[39;00m pair \u001b[38;5;129;01min\u001b[39;00m data], [pair[\u001b[38;5;241m1\u001b[39m] \u001b[38;5;28;01mfor\u001b[39;00m pair \u001b[38;5;129;01min\u001b[39;00m data], color \u001b[38;5;241m=\u001b[39m \u001b[38;5;124m'\u001b[39m\u001b[38;5;124mred\u001b[39m\u001b[38;5;124m'\u001b[39m, alpha \u001b[38;5;241m=\u001b[39m \u001b[38;5;241m0.7\u001b[39m, s \u001b[38;5;241m=\u001b[39m \u001b[38;5;241m0.1\u001b[39m, label \u001b[38;5;241m=\u001b[39m \u001b[38;5;124m'\u001b[39m\u001b[38;5;124mData points\u001b[39m\u001b[38;5;124m'\u001b[39m)\n\u001b[0;32m     46\u001b[0m ax2\u001b[38;5;241m.\u001b[39mset_title(\u001b[38;5;124m\"\u001b[39m\u001b[38;5;124mJoint Distribution of the generated program\u001b[39m\u001b[38;5;124m\"\u001b[39m)\n",
      "Cell \u001b[1;32mIn[43], line 28\u001b[0m, in \u001b[0;36mget_mixture_pdf\u001b[1;34m(point, data_var_list)\u001b[0m\n\u001b[0;32m     26\u001b[0m covariance_index \u001b[38;5;241m=\u001b[39m []\n\u001b[0;32m     27\u001b[0m \u001b[38;5;28;01mfor\u001b[39;00m element, index_list \u001b[38;5;129;01min\u001b[39;00m indexes\u001b[38;5;241m.\u001b[39mitems():\n\u001b[1;32m---> 28\u001b[0m     marginal_means\u001b[38;5;241m.\u001b[39mappend(\u001b[43moutput_dist\u001b[49m\u001b[38;5;241;43m.\u001b[39;49m\u001b[43mgm\u001b[49m\u001b[38;5;241;43m.\u001b[39;49m\u001b[43mmu\u001b[49m\u001b[43m[\u001b[49m\u001b[43mi\u001b[49m\u001b[43m]\u001b[49m\u001b[43m[\u001b[49m\u001b[43mindex_list\u001b[49m\u001b[43m]\u001b[49m\u001b[43m[\u001b[49m\u001b[38;5;241;43m0\u001b[39;49m\u001b[43m]\u001b[49m)\n\u001b[0;32m     29\u001b[0m     covariance_index\u001b[38;5;241m.\u001b[39mappend(index_list[\u001b[38;5;241m0\u001b[39m])\n\u001b[0;32m     31\u001b[0m marginal_covariance_matrix \u001b[38;5;241m=\u001b[39m output_dist\u001b[38;5;241m.\u001b[39mgm\u001b[38;5;241m.\u001b[39msigma[i][np\u001b[38;5;241m.\u001b[39mix_(covariance_index,covariance_index)]\n",
      "\u001b[1;31mIndexError\u001b[0m: index 0 is out of bounds for axis 0 with size 0"
     ]
    }
   ],
   "source": [
    "#3D image of the joint distribution\n",
    "from mpl_toolkits.mplot3d import Axes3D\n",
    "\n",
    "\n",
    "def get_mixture_pdf1(x, y):\n",
    "    pdf = 0\n",
    "    indexes = {element: [index for index, value in enumerate(output_dist.var_list) if value == element] for element in data_var_list}\n",
    "    for i in range(output_dist.gm.n_comp()):\n",
    "        marginal_means = []\n",
    "        covariance_index = []\n",
    "        for element, index_list in indexes.items():\n",
    "            marginal_means.append(output_dist.gm.mu[i][index_list][0])\n",
    "            covariance_index.append(index_list[0])\n",
    "\n",
    "        marginal_covariance_matrix = output_dist.gm.sigma[i][np.ix_(covariance_index,covariance_index)]\n",
    "        \n",
    "        pdf += output_dist.gm.pi[i] * multivariate_normal.pdf([x, y], mean = marginal_means, cov = marginal_covariance_matrix, allow_singular=True)\n",
    "\n",
    "    return pdf\n",
    "\n",
    "def get_mixture_pdf(point, data_var_list = data_var_list):\n",
    "    pdf = 0\n",
    "    indexes = {element: [index for index, value in enumerate(output_dist.var_list) if value == element] for element in data_var_list}\n",
    "    for i in range(output_dist.gm.n_comp()):\n",
    "        marginal_means = []\n",
    "        covariance_index = []\n",
    "        for element, index_list in indexes.items():\n",
    "            marginal_means.append(output_dist.gm.mu[i][index_list][0])\n",
    "            covariance_index.append(index_list[0])\n",
    "\n",
    "        marginal_covariance_matrix = output_dist.gm.sigma[i][np.ix_(covariance_index,covariance_index)]\n",
    "        \n",
    "        pdf+= + output_dist.gm.pi[i] * multivariate_normal.pdf(point, mean = marginal_means, cov = marginal_covariance_matrix, allow_singular=True)\n",
    "\n",
    "    return pdf\n",
    "        \n",
    "\n",
    "\n",
    "x, y = np.mgrid[-10:10:.01, 0:15:.01]\n",
    "pos = np.dstack((x, y))\n",
    "#rv = multivariate_normal([0.5, -0.2], [[2.0, 0.3], [0.3, 0.5]])\n",
    "fig2 = plt.figure()\n",
    "ax2 = fig2.add_subplot(111)\n",
    "ax2.contourf(x, y, get_mixture_pdf(pos, data_var_list=['a', 'b']))\n",
    "ax2.scatter([pair[0] for pair in data], [pair[1] for pair in data], color = 'red', alpha = 0.7, s = 0.1, label = 'Data points')\n",
    "ax2.set_title(\"Joint Distribution of the generated program\")\n",
    "ax2.set_xlabel(\"a\")\n",
    "ax2.set_ylabel(\"b\")\n",
    "ax2.legend()"
   ]
  },
  {
   "cell_type": "code",
   "execution_count": null,
   "metadata": {},
   "outputs": [
    {
     "data": {
      "text/plain": [
       "3.98942278406721e-05"
      ]
     },
     "execution_count": 16,
     "metadata": {},
     "output_type": "execute_result"
    }
   ],
   "source": [
    "from scipy.stats import multivariate_normal\n",
    "var = multivariate_normal(mean=[0,0], cov=[[100000000,0],[0,0]], allow_singular=True)\n",
    "var.pdf([1,1])"
   ]
  }
 ],
 "metadata": {
  "kernelspec": {
   "display_name": "neuralodes",
   "language": "python",
   "name": "python3"
  },
  "language_info": {
   "codemirror_mode": {
    "name": "ipython",
    "version": 3
   },
   "file_extension": ".py",
   "mimetype": "text/x-python",
   "name": "python",
   "nbconvert_exporter": "python",
   "pygments_lexer": "ipython3",
   "version": "3.11.6"
  }
 },
 "nbformat": 4,
 "nbformat_minor": 2
}
