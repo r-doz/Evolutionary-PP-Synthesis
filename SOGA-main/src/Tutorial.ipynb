{
 "cells": [
  {
   "cell_type": "code",
   "execution_count": 9,
   "id": "e601c53a",
   "metadata": {},
   "outputs": [],
   "source": [
    "from sogaPreprocessor import *\n",
    "from producecfg import *\n",
    "from libSOGA import *\n",
    "from scipy.stats import multivariate_normal\n",
    "import signal"
   ]
  },
  {
   "cell_type": "code",
   "execution_count": 2,
   "id": "86e47706",
   "metadata": {},
   "outputs": [],
   "source": [
    "def preprocess_program(program):\n",
    "    p = convert_and_normalize_gm_structure(program)\n",
    "    p = convert_uniform_structure(p)\n",
    "    return p\n",
    "\n",
    "\n",
    "def convert_and_normalize_gm_structure(text):\n",
    "    # Regular expression to find gm structure\n",
    "    pattern = r'gm\\(\\s*(\\[[^\\]]+\\](?:,\\s*\\[[^\\]]+\\])*)\\s*\\)'\n",
    "    \n",
    "    # Match all occurrences of the structure\n",
    "    matches = re.findall(pattern, text)\n",
    "    \n",
    "    # Process each match\n",
    "    converted_text = text\n",
    "    for match in matches:\n",
    "        # Find all sets of [pi, mu, s] inside the matched string\n",
    "        elements = re.findall(r'\\[\\s*([0-9.-]+)\\s*,\\s*([0-9.-]+)\\s*,\\s*([0-9.-]+)\\s*\\]', match)\n",
    "        \n",
    "        # Separate pi, mu, and s into their own lists\n",
    "        pi_list = [float(e[0]) for e in elements]\n",
    "        mu_list = [e[1] for e in elements]\n",
    "        s_list = [e[2] for e in elements]\n",
    "        \n",
    "        # Normalize pi_list\n",
    "        pi_sum = sum(pi_list)\n",
    "        normalized_pi_list = [pi / pi_sum for pi in pi_list] if pi_sum != 0 else pi_list\n",
    "        \n",
    "        # Format the new gm structure with normalized pi_list\n",
    "        new_gm = f'gm([{\", \".join(f\"{pi:.6f}\" for pi in normalized_pi_list)}], [{\", \".join(mu_list)}], [{\", \".join(s_list)}])'\n",
    "        \n",
    "        # Replace the old structure with the new one in the text\n",
    "        converted_text = converted_text.replace(f'gm({match})', new_gm)\n",
    "    \n",
    "    return converted_text\n",
    "\n",
    "import re\n",
    "\n",
    "def convert_uniform_structure(text):\n",
    "    # Regular expression to find the structure uniform([a, b], c)\n",
    "    pattern = r'uniform\\(\\s*\\[\\s*([0-9.-]+)\\s*,\\s*([0-9.-]+)\\s*\\]\\s*,\\s*([0-9.-]+)\\s*\\)'\n",
    "    \n",
    "    # Find all matches of uniform([a, b], c)\n",
    "    matches = re.findall(pattern, text)\n",
    "    \n",
    "    # Process each match\n",
    "    converted_text = text\n",
    "    for match in matches:\n",
    "        a = float(match[0])  # Extract 'a'\n",
    "        b = float(match[1])  # Extract 'b'\n",
    "        c = match[2]         # Extract 'c'\n",
    "        \n",
    "        # New value for 'a + b'\n",
    "        new_b = a + b\n",
    "        \n",
    "        # Format the new uniform structure\n",
    "        new_uniform = f'uniform([{a:.6f}, {new_b:.6f}], {c})'\n",
    "        \n",
    "        # Replace the old structure with the new one in the text\n",
    "        old_uniform = f'uniform([{match[0]}, {match[1]}], {match[2]})'\n",
    "        converted_text = converted_text.replace(old_uniform, new_uniform)\n",
    "    \n",
    "    return converted_text"
   ]
  },
  {
   "cell_type": "code",
   "execution_count": 11,
   "id": "e57d8a50",
   "metadata": {},
   "outputs": [],
   "source": [
    "data_var_list = ['a', 'b']\n",
    "#data = np.random.uniform(0, 1, 100)\n",
    "data = [[np.random.normal(1, 2), np.random.normal(8, 2)] for _ in range(10000)]"
   ]
  },
  {
   "cell_type": "code",
   "execution_count": 5,
   "id": "6a4a8831",
   "metadata": {},
   "outputs": [
    {
     "name": "stdout",
     "output_type": "stream",
     "text": [
      "a = 8 * uniform([7.000000, 15.800000], 1);\n",
      "b = gm([0.042254, 0.798122, 0.159624], [0.735294, 1, 8.0], [1, 1.4, 9.0]) * uniform([2.000000, 11.200000], 6);\n"
     ]
    }
   ],
   "source": [
    "text_baseline = 'a = gm([1, 1, 2]);b = gm([1, 8, 2]);'\n",
    "#text= 'b = gm([3, 4.3, 6])  - 3  * a;\\na = gm([2.2, 1, 2.6]);'\n",
    "text = 'a = 8 * uniform([7.000000, 8.800000], 1);\\nb = gm([0.264706, 0.735294, 1], [5, 1, 1.4], [1, 8.0, 9.0]) * uniform([2.000000, 9.200000], 6);'\n",
    "text_baseline = preprocess_program(text_baseline)\n",
    "text = preprocess_program(text)\n",
    "print(text)\n",
    "compiledText=compile2SOGA_text(text)\n",
    "compiledText_baseline=compile2SOGA_text(text_baseline)"
   ]
  },
  {
   "cell_type": "code",
   "execution_count": 6,
   "id": "a91041d6",
   "metadata": {},
   "outputs": [],
   "source": [
    "cfg = produce_cfg_text(compiledText)\n",
    "cfg_baseline = produce_cfg_text(compiledText_baseline)\n"
   ]
  },
  {
   "cell_type": "code",
   "execution_count": 7,
   "id": "576f4fdd",
   "metadata": {},
   "outputs": [],
   "source": [
    "output_dist = start_SOGA(cfg)\n",
    "output_dist_baseline = start_SOGA(cfg_baseline)"
   ]
  },
  {
   "cell_type": "code",
   "execution_count": 12,
   "id": "bf4fe629",
   "metadata": {},
   "outputs": [
    {
     "name": "stdout",
     "output_type": "stream",
     "text": [
      "Caught TimeoutException: Code execution exceeded time limit\n",
      "-382.6250315048766\n"
     ]
    }
   ],
   "source": [
    "\n",
    "\n",
    "\n",
    "# Define a custom exception for timeouts\n",
    "class TimeoutException(Exception):\n",
    "    pass\n",
    "\n",
    "# Define a handler function for the timeout\n",
    "def handler(signum, frame):\n",
    "    raise TimeoutException(\"Code execution exceeded time limit\")\n",
    "\n",
    "\n",
    "def compute_likelihood(output_dist):\n",
    "    likelihood = np.zeros(len(data))\n",
    "    #log_total_likelihood = 0\n",
    "    sum_likelihood = 0\n",
    "    for j in range(len(data)):\n",
    "        indexes = {element: [index for index, value in enumerate(output_dist.var_list) if value == element] for element in data_var_list}\n",
    "        for i in range(output_dist.gm.n_comp()):\n",
    "            marginal_means = []\n",
    "            covariance_index = []\n",
    "            for element, index_list in indexes.items():\n",
    "                marginal_means.append(output_dist.gm.mu[i][index_list][0])\n",
    "                covariance_index.append(index_list[0])\n",
    "\n",
    "            marginal_covariance_matrix = output_dist.gm.sigma[i][np.ix_(covariance_index,covariance_index)]\n",
    "\n",
    "            likelihood[j] = likelihood[j] + np.log(output_dist.gm.pi[i] * multivariate_normal.pdf(data[j], mean = marginal_means, cov = marginal_covariance_matrix, allow_singular=True))\n",
    "        #log_total_likelihood = log_total_likelihood + np.log(likelihood[j])\n",
    "        sum_likelihood = sum_likelihood + likelihood[j]\n",
    "    #fitness = log_total_likelihood\n",
    "    fitness = sum_likelihood/len(data)\n",
    "    return fitness\n",
    "\n",
    "# Main code\n",
    "try:\n",
    "    # Set the timeout handler to raise TimeoutException after 5 seconds\n",
    "    signal.signal(signal.SIGALRM, handler)\n",
    "    signal.alarm(5)  # Set the timeout to 5 seconds\n",
    "    fitness = compute_likelihood(output_dist)\n",
    "    fitness_baseline = compute_likelihood(output_dist_baseline)\n",
    "\n",
    "    # Cancel the alarm if the code completes within the time limit\n",
    "    signal.alarm(0)\n",
    "\n",
    "except TimeoutException as e:\n",
    "    print(\"Caught TimeoutException:\", e)\n",
    "\n",
    "print(fitness)\n",
    "#print(fitness_baseline)"
   ]
  },
  {
   "cell_type": "code",
   "execution_count": 9,
   "id": "f08ed6f5",
   "metadata": {},
   "outputs": [
    {
     "data": {
      "text/plain": [
       "array([91.21824   , 13.90358871])"
      ]
     },
     "execution_count": 9,
     "metadata": {},
     "output_type": "execute_result"
    }
   ],
   "source": [
    "output_dist.gm.mean()"
   ]
  },
  {
   "cell_type": "code",
   "execution_count": 8,
   "id": "106c63fd",
   "metadata": {},
   "outputs": [
    {
     "data": {
      "image/png": "[encoded data removed]",
      "text/plain": [
       "<Figure size 640x480 with 1 Axes>"
      ]
     },
     "metadata": {},
     "output_type": "display_data"
    }
   ],
   "source": [
    "import matplotlib.pyplot as plt\n",
    "from scipy.stats import uniform\n",
    "\n",
    "# Define the range for the uniform distribution\n",
    "x = np.linspace(-10, 20, 1000)\n",
    "y_0 = [output_dist.gm.marg_pdf(xi,0) for xi in x]\n",
    "y_1 = [output_dist.gm.marg_pdf(xi,1) for xi in x]\n",
    "\n",
    "fig, ax = plt.subplots()\n",
    "\n",
    "\n",
    "ax.plot(x,y_0, label='Program \"var 0\"', color = '#333366')\n",
    "ax.plot(x,y_1, label='Program \"var 1\"', color = 'green')\n",
    "\n",
    "ax.hist([pair[0] for pair in data], bins=50, density=True, alpha=0.5, color = '#FFCC00')\n",
    "ax.hist([pair[1] for pair in data], bins=50, density=True, alpha=0.5, color = 'orange')\n",
    "ax.set_title(\"Distribution of the generated program vs true distribution\")\n",
    "ax.set_xlabel(\"x\")\n",
    "ax.set_ylabel(\"Probability Density\")\n",
    "\n",
    "# Remove the upper and right borders\n",
    "ax.spines['right'].set_visible(False)\n",
    "ax.spines['top'].set_visible(False)\n",
    "\n",
    "# Add grid, legend and show the plot\n",
    "ax.grid(True)\n",
    "ax.legend()\n",
    "plt.show()\n",
    "\n"
   ]
  }
 ],
 "metadata": {
  "kernelspec": {
   "display_name": "Python 3 (ipykernel)",
   "language": "python",
   "name": "python3"
  },
  "language_info": {
   "codemirror_mode": {
    "name": "ipython",
    "version": 3
   },
   "file_extension": ".py",
   "mimetype": "text/x-python",
   "name": "python",
   "nbconvert_exporter": "python",
   "pygments_lexer": "ipython3",
   "version": "3.11.6"
  }
 },
 "nbformat": 4,
 "nbformat_minor": 5
}
